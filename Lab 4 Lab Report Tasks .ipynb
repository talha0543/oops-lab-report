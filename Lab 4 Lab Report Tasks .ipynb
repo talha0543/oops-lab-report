{
 "cells": [
  {
   "cell_type": "markdown",
   "id": "948048d9-c574-40b9-8022-7c7b842d9e48",
   "metadata": {},
   "source": [
    "## NAME: MUHAMMAD TALHA \n",
    "## REG NO: 23JZELE0543 \n",
    "## SECTI0N B: "
   ]
  },
  {
   "cell_type": "markdown",
   "id": "71ba9392",
   "metadata": {},
   "source": [
    "# Lab 4\n",
    "# Classes, objects, and instances"
   ]
  },
  {
   "cell_type": "markdown",
   "id": "60207fc3-bee3-4861-b9e4-7397a8fb0583",
   "metadata": {},
   "source": [
    "# Lab Title: EE-271 “OOP & Data Structures Lab”"
   ]
  },
  {
   "cell_type": "markdown",
   "id": "1fafaa50-2ba0-4bc8-b1ee-954039f315fd",
   "metadata": {},
   "source": [
    "# Lab report task:"
   ]
  },
  {
   "cell_type": "markdown",
   "id": "587e6847-4d5a-4e1b-abe9-f3fc44568f9e",
   "metadata": {},
   "source": [
    "# (1)."
   ]
  },
  {
   "cell_type": "code",
   "execution_count": 16,
   "id": "4878d20a-c62b-4b70-8ff5-8b99c138d1f0",
   "metadata": {},
   "outputs": [],
   "source": [
    "import math\n",
    "\n",
    "class Point:\n",
    "    \"\"\"Represents a point in two-dimensional geometric coordinates.\n",
    "    \n",
    "    Parameters\n",
    "    ----------\n",
    "    x : float\n",
    "    y : float\n",
    "    \"\"\"\n",
    "    \n",
    "    def __init__(self, x: float, y: float) -> None:\n",
    "        self.x = x\n",
    "        self.y = y\n",
    "\n",
    "    def distance(self, p2) -> float:\n",
    "        return math.sqrt((self.x - p2.x) ** 2 + (self.y - p2.y) ** 2)\n",
    "    def __str__(self) -> None:\n",
    "       return f\"Point coordinates: ({self.x}, {self.y})\"\n",
    "    def print_point(self) -> None:\n",
    "        print(f\"Coordinates: ({self.x}, {self.y})\")  "
   ]
  },
  {
   "cell_type": "code",
   "execution_count": 24,
   "id": "d58be696-45bc-4de3-81a4-a1994005e67b",
   "metadata": {},
   "outputs": [],
   "source": [
    "p1 = Point(3.0, 4.0)"
   ]
  },
  {
   "cell_type": "code",
   "execution_count": 26,
   "id": "819d955f-e08c-4c22-aec5-0b00a7bdd926",
   "metadata": {},
   "outputs": [],
   "source": [
    "p2 = Point(6.0, 8.0)"
   ]
  },
  {
   "cell_type": "code",
   "execution_count": 28,
   "id": "789d3d8e-f8b0-4524-86c0-900fd252b277",
   "metadata": {},
   "outputs": [
    {
     "name": "stdout",
     "output_type": "stream",
     "text": [
      "Point coordinates: (3.0, 4.0)\n"
     ]
    }
   ],
   "source": [
    "print(p1)"
   ]
  },
  {
   "cell_type": "code",
   "execution_count": 30,
   "id": "40aa800c-9736-40e5-8ad7-1d60a89c365d",
   "metadata": {},
   "outputs": [
    {
     "name": "stdout",
     "output_type": "stream",
     "text": [
      "Point 1: Point coordinates: (3.0, 4.0)\n",
      "Point 2: Point coordinates: (6.0, 8.0)\n"
     ]
    }
   ],
   "source": [
    "print(\"Point 1:\", p1)\n",
    "print(\"Point 2:\", p2)"
   ]
  },
  {
   "cell_type": "code",
   "execution_count": 32,
   "id": "92923dd5-3389-4332-9d2a-9695e2d33136",
   "metadata": {},
   "outputs": [
    {
     "name": "stdout",
     "output_type": "stream",
     "text": [
      "Point 1 coordinates: (3.0, 4.0)\n",
      "Point 2 coordinates: (6.0, 8.0)\n"
     ]
    }
   ],
   "source": [
    "print(f\"Point 1 coordinates: ({p1.x}, {p1.y})\")\n",
    "print(f\"Point 2 coordinates: ({p2.x}, {p2.y})\")\n"
   ]
  },
  {
   "cell_type": "code",
   "execution_count": 34,
   "id": "5da0f544-e53b-4012-b5a3-ae158a345a7c",
   "metadata": {},
   "outputs": [
    {
     "name": "stdout",
     "output_type": "stream",
     "text": [
      "Coordinates: (3.0, 4.0)\n",
      "Coordinates: (6.0, 8.0)\n"
     ]
    }
   ],
   "source": [
    "p1.print_point()\n",
    "p2.print_point()\n"
   ]
  },
  {
   "cell_type": "code",
   "execution_count": 36,
   "id": "191a6dfb-e888-4bba-a58b-bb87de877ff6",
   "metadata": {},
   "outputs": [
    {
     "name": "stdout",
     "output_type": "stream",
     "text": [
      "Distance between Point 1 and Point 2: 5.0\n"
     ]
    }
   ],
   "source": [
    "distance = p1.distance(p2)\n",
    "print(f\"Distance between Point 1 and Point 2: {distance}\")"
   ]
  },
  {
   "cell_type": "markdown",
   "id": "8dda225a-5953-4389-9110-22f1ed393b0e",
   "metadata": {},
   "source": []
  }
 ],
 "metadata": {
  "kernelspec": {
   "display_name": "Python 3 (ipykernel)",
   "language": "python",
   "name": "python3"
  },
  "language_info": {
   "codemirror_mode": {
    "name": "ipython",
    "version": 3
   },
   "file_extension": ".py",
   "mimetype": "text/x-python",
   "name": "python",
   "nbconvert_exporter": "python",
   "pygments_lexer": "ipython3",
   "version": "3.12.4"
  }
 },
 "nbformat": 4,
 "nbformat_minor": 5
}
