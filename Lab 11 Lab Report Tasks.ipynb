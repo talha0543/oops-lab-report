{
 "cells": [
  {
   "cell_type": "markdown",
   "id": "caafdf98-1a0a-4fab-b7fd-4e97d3aed549",
   "metadata": {},
   "source": [
    " #  NAME: MUHAMMAD TALHA\n",
    " # REG NO: 23JZELE0543 \n",
    " # SECTI0N: B"
   ]
  },
  {
   "cell_type": "markdown",
   "id": "250768d1-e4dd-4d08-acc1-c6347cbf68f9",
   "metadata": {},
   "source": [
    "# LAB NO 11 "
   ]
  },
  {
   "cell_type": "markdown",
   "id": "d4dd226e-88ea-472b-816b-bb03db6aaf25",
   "metadata": {},
   "source": [
    "# LAB REPORT TASK"
   ]
  },
  {
   "cell_type": "code",
   "execution_count": 2,
   "id": "3b9c12a4-0e25-4991-a217-16eea86bc98f",
   "metadata": {},
   "outputs": [],
   "source": [
    "class Node:\n",
    "    def __init__(self, data):  \n",
    "        self.data = data\n",
    "        self.next = None\n",
    "\n",
    "class NodeStack:\n",
    "    def __init__(self):  \n",
    "        self.top = None\n",
    "\n",
    "    def is_empty(self):\n",
    "        return self.top is None\n",
    "\n",
    "    def push(self, item):\n",
    "        new_node = Node(item)\n",
    "        new_node.next = self.top\n",
    "        self.top = new_node\n",
    "\n",
    "    def pop(self):\n",
    "        if not self.is_empty():\n",
    "            popped_item = self.top.data\n",
    "            self.top = self.top.next\n",
    "            return popped_item\n",
    "        else:\n",
    "            print(\"Stack is empty\")\n",
    "            return None\n",
    "\n",
    "    def peek(self):\n",
    "        if not self.is_empty():\n",
    "            return self.top.data\n",
    "        else:\n",
    "            print(\"Stack is empty\")\n",
    "            return None\n",
    "\n",
    "    def display(self):\n",
    "        current = self.top\n",
    "        if self.is_empty():\n",
    "            print(\"Stack is empty\")\n",
    "        else:\n",
    "            print(\"Stack contents:\")\n",
    "            while current:\n",
    "                print(current.data, end=\" -> \")\n",
    "                current = current.next\n",
    "            print(\"None\")"
   ]
  },
  {
   "cell_type": "code",
   "execution_count": 3,
   "id": "151a1ca6-20c6-4583-97ab-1689a2717293",
   "metadata": {},
   "outputs": [],
   "source": [
    "stack = NodeStack()"
   ]
  },
  {
   "cell_type": "code",
   "execution_count": 4,
   "id": "1eaa4c20-029c-4521-b781-28bdfbdcb819",
   "metadata": {},
   "outputs": [],
   "source": [
    "# Push different data types\n",
    "stack.push(12)           \n",
    "stack.push(15.5)         \n",
    "stack.push(\"Hello\")     \n",
    "stack.push([1, 2, 3])"
   ]
  },
  {
   "cell_type": "code",
   "execution_count": 27,
   "id": "a17ead14-3394-43c0-a31b-f9ebe7568337",
   "metadata": {},
   "outputs": [
    {
     "name": "stdout",
     "output_type": "stream",
     "text": [
      "Stack contents:\n",
      "[1, 2, 3] -> Hello -> 15.5 -> 10 -> None\n"
     ]
    }
   ],
   "source": [
    "# Display stack contents\n",
    "stack.display()\n"
   ]
  },
  {
   "cell_type": "code",
   "execution_count": 29,
   "id": "0abf3532-48ac-4bf0-9c0b-e48a08b12f85",
   "metadata": {},
   "outputs": [
    {
     "name": "stdout",
     "output_type": "stream",
     "text": [
      "Top item: [1, 2, 3]\n"
     ]
    }
   ],
   "source": [
    "# Peek at the top item\n",
    "print(\"Top item:\", stack.peek())"
   ]
  },
  {
   "cell_type": "code",
   "execution_count": 31,
   "id": "e2a56112-58ce-42ef-9244-54c8a7e0fc2a",
   "metadata": {},
   "outputs": [
    {
     "name": "stdout",
     "output_type": "stream",
     "text": [
      "Popped item: [1, 2, 3]\n",
      "Popped item: Hello\n"
     ]
    }
   ],
   "source": [
    "# Pop items and display them\n",
    "print(\"Popped item:\", stack.pop())\n",
    "print(\"Popped item:\", stack.pop())"
   ]
  },
  {
   "cell_type": "code",
   "execution_count": 33,
   "id": "e1504ce5-148e-4383-8d4b-6fc5476ddcae",
   "metadata": {},
   "outputs": [
    {
     "name": "stdout",
     "output_type": "stream",
     "text": [
      "Stack contents:\n",
      "15.5 -> 10 -> None\n"
     ]
    }
   ],
   "source": [
    "# Display stack contents after popping\n",
    "stack.display()\n"
   ]
  },
  {
   "cell_type": "markdown",
   "id": "aa3ee552-bb2d-4607-b766-a67c2c3e59f9",
   "metadata": {},
   "source": [
    "<p style=\"color:cyan ; font-size:25px; font-family: Bernard MT Condensed ; text-align:center;\">IMPLEMENTATION OF STACKS IN PYTHON:\n",
    "1. List Stack:\n"
   ]
  },
  {
   "cell_type": "code",
   "execution_count": 11,
   "id": "37fb5a1f-874d-472d-887d-936bbf6cf596",
   "metadata": {},
   "outputs": [],
   "source": [
    "class StackList:\n",
    "    def __init__(self):\n",
    "        self.items = []  \n",
    "    \n",
    "    def is_empty(self):\n",
    "        return len(self.items) == 0\n",
    "    \n",
    "    def push(self, item):\n",
    "        self.items.append(item)\n",
    "    \n",
    "    def pop(self):\n",
    "        if not self.is_empty():\n",
    "            return self.items.pop()\n",
    "        else:\n",
    "            print(\"Stack is empty\")\n",
    "    \n",
    "    def peek(self):\n",
    "        if not self.is_empty():\n",
    "            return self.items[-1]\n",
    "        else:\n",
    "            print(\"Stack is empty\")\n",
    "    \n",
    "    def size(self):\n",
    "        return len(self.items)\n"
   ]
  },
  {
   "cell_type": "markdown",
   "id": "360c53e1-b72a-4e24-a3e5-86fea8b247d6",
   "metadata": {},
   "source": [
    "# 2. Creating object of this class:"
   ]
  },
  {
   "cell_type": "code",
   "execution_count": 17,
   "id": "0f8fde53-808c-4409-81e0-8493174eeafb",
   "metadata": {},
   "outputs": [],
   "source": [
    "stack=StackList()"
   ]
  },
  {
   "cell_type": "code",
   "execution_count": 19,
   "id": "73600b3e-90d2-4205-975e-2598c77d351e",
   "metadata": {},
   "outputs": [
    {
     "name": "stdout",
     "output_type": "stream",
     "text": [
      "Is stack empty? True\n"
     ]
    }
   ],
   "source": [
    "print(\"Is stack empty?\", stack.is_empty()) "
   ]
  },
  {
   "cell_type": "code",
   "execution_count": 21,
   "id": "94645e9e-8a68-406a-899f-7e4a85d7681f",
   "metadata": {},
   "outputs": [],
   "source": [
    "stack.push(1)\n",
    "stack.push(2)\n",
    "stack.push(3)\n"
   ]
  },
  {
   "cell_type": "code",
   "execution_count": 23,
   "id": "6047d111-dddf-4f52-8af5-42dd77824cc1",
   "metadata": {},
   "outputs": [
    {
     "name": "stdout",
     "output_type": "stream",
     "text": [
      "Size of stack: 3\n"
     ]
    }
   ],
   "source": [
    "print(\"Size of stack:\", stack.size())"
   ]
  },
  {
   "cell_type": "code",
   "execution_count": 25,
   "id": "cc44ad48-293a-442e-8131-fe7992520984",
   "metadata": {},
   "outputs": [
    {
     "name": "stdout",
     "output_type": "stream",
     "text": [
      "Top element: 3\n"
     ]
    }
   ],
   "source": [
    "print(\"Top element:\", stack.peek())"
   ]
  },
  {
   "cell_type": "code",
   "execution_count": 27,
   "id": "2433e489-b0d3-476f-95e3-e254fd35aa47",
   "metadata": {},
   "outputs": [
    {
     "name": "stdout",
     "output_type": "stream",
     "text": [
      "Popped element: 3\n",
      "Popped element: 2\n"
     ]
    }
   ],
   "source": [
    "print(\"Popped element:\", stack.pop())  \n",
    "print(\"Popped element:\", stack.pop())  "
   ]
  },
  {
   "cell_type": "code",
   "execution_count": 31,
   "id": "a46a9501-c293-4846-95c3-1a9b8a4185e7",
   "metadata": {},
   "outputs": [
    {
     "name": "stdout",
     "output_type": "stream",
     "text": [
      "peek): 1\n"
     ]
    }
   ],
   "source": [
    "print(\"peek):\", stack.peek())"
   ]
  },
  {
   "cell_type": "code",
   "execution_count": 33,
   "id": "221f2801-c25b-4603-8f11-d8db6ef0a2ce",
   "metadata": {},
   "outputs": [
    {
     "name": "stdout",
     "output_type": "stream",
     "text": [
      "stack size: 1\n"
     ]
    }
   ],
   "source": [
    "print(\"stack size:\",stack.size())"
   ]
  },
  {
   "cell_type": "markdown",
   "id": "2ec33f27-3b67-4d3f-b37b-920eb4524b1c",
   "metadata": {},
   "source": [
    "# 1. Deque Implementation"
   ]
  },
  {
   "cell_type": "code",
   "execution_count": 105,
   "id": "ebc3cf30-2d00-45f5-84f7-adaef631dda2",
   "metadata": {},
   "outputs": [],
   "source": [
    "from collections import deque\n",
    "\n",
    "class StackDeque:\n",
    "    def __init__(self):\n",
    "        self.items = deque()\n",
    "\n",
    "    def is_empty(self):\n",
    "        return len(self.items) == 0\n",
    "\n",
    "    def push(self, item):\n",
    "        self.items.append(item)\n",
    "\n",
    "    def pop(self):\n",
    "        if not self.is_empty():\n",
    "            return self.items.pop()\n",
    "        else:\n",
    "            print(\"Stack is empty\")\n",
    "\n",
    "    def peek(self):\n",
    "        if not self.is_empty():\n",
    "            return self.items[-1]\n",
    "        else:\n",
    "            print(\"Stack is empty\")\n",
    "\n",
    "    def size(self):\n",
    "        return len(self.items)\n"
   ]
  },
  {
   "cell_type": "markdown",
   "id": "7d8040f2-eebf-4207-8b16-a71c154e5614",
   "metadata": {},
   "source": [
    "# a. Creating Data types in Deque Stack Implementation\n"
   ]
  },
  {
   "cell_type": "code",
   "execution_count": 107,
   "id": "459d1f8a-3386-4b56-9f34-6ec2f33d2020",
   "metadata": {},
   "outputs": [],
   "source": [
    "stack1 =StackDeque()\n",
    "stack2 =StackDeque()"
   ]
  },
  {
   "cell_type": "markdown",
   "id": "eec63ab9-90a4-42f6-b486-c1fa4423702a",
   "metadata": {},
   "source": [
    "# b. Pushing element in Stack\n"
   ]
  },
  {
   "cell_type": "code",
   "execution_count": 109,
   "id": "15ecc744-0497-4430-a7bf-96605e4c50c7",
   "metadata": {},
   "outputs": [],
   "source": [
    "stack1.push(1)\n",
    "stack1.push(2)\n",
    "stack1.push(3)"
   ]
  },
  {
   "cell_type": "code",
   "execution_count": 111,
   "id": "339652ff-0530-42cf-afbf-eeae03b4e227",
   "metadata": {},
   "outputs": [],
   "source": [
    "stack2.push(\"apple\")\n",
    "stack2.push(\"banana\")\n",
    "stack2.push(\"cherry\")"
   ]
  },
  {
   "cell_type": "code",
   "execution_count": 113,
   "id": "c06b7174-6911-4e22-8938-4427221edd92",
   "metadata": {},
   "outputs": [
    {
     "name": "stdout",
     "output_type": "stream",
     "text": [
      "stack1: deque([1, 2, 3])\n",
      "stack2: deque(['apple', 'banana', 'cherry'])\n"
     ]
    }
   ],
   "source": [
    "print(\"stack1:\",stack1.items)\n",
    "print(\"stack2:\",stack2.items)"
   ]
  },
  {
   "cell_type": "markdown",
   "id": "6e0c1a2e-04e6-4ba7-adc2-1d36f683273c",
   "metadata": {},
   "source": [
    "# c. Popping out element from Stack"
   ]
  },
  {
   "cell_type": "code",
   "execution_count": 115,
   "id": "6dc68a9a-dfa4-462b-ba79-18a475d28278",
   "metadata": {},
   "outputs": [],
   "source": [
    "popped1 = stack1.pop()\n",
    "popped2 = stack1.pop()"
   ]
  },
  {
   "cell_type": "code",
   "execution_count": 117,
   "id": "397e70eb-6724-47b2-ad17-70dcc107a927",
   "metadata": {},
   "outputs": [],
   "source": [
    "popped3 = stack2.pop()\n",
    "popped4 = stack2.pop()"
   ]
  },
  {
   "cell_type": "code",
   "execution_count": 119,
   "id": "007bd94a-7296-424d-b039-581b8ba0f43f",
   "metadata": {},
   "outputs": [
    {
     "name": "stdout",
     "output_type": "stream",
     "text": [
      "Popped from Stack1: 3 2\n"
     ]
    }
   ],
   "source": [
    "print(\"Popped from Stack1:\",popped1,popped2)"
   ]
  },
  {
   "cell_type": "code",
   "execution_count": 91,
   "id": "d1c33f21-91d2-4a30-9235-dd50ead4e8d1",
   "metadata": {},
   "outputs": [
    {
     "name": "stdout",
     "output_type": "stream",
     "text": [
      "Popped from Stack2: banana apple\n"
     ]
    }
   ],
   "source": [
    "print(\"Popped from Stack2:\",popped3,popped4)"
   ]
  },
  {
   "cell_type": "code",
   "execution_count": 103,
   "id": "3a3ac89e-b20f-4008-8416-9f7b86f7a7b2",
   "metadata": {},
   "outputs": [
    {
     "name": "stdout",
     "output_type": "stream",
     "text": [
      "current Stack1: deque([1])\n",
      "current Stack2: deque([])\n"
     ]
    }
   ],
   "source": [
    "print(\"current Stack1:\",stack1.items)\n",
    "print(\"current Stack2:\",stack2.items)"
   ]
  },
  {
   "cell_type": "markdown",
   "id": "e37be1ab-27e0-435a-a4b4-094f28d185a1",
   "metadata": {},
   "source": [
    "# d. NODE BASE IMPLEMENTATION\n"
   ]
  },
  {
   "cell_type": "code",
   "execution_count": 41,
   "id": "06cb8852-aea1-480b-94f1-3cf4eb2c2b80",
   "metadata": {},
   "outputs": [],
   "source": [
    "class Node:\n",
    "    def __init__(self, data):  \n",
    "        self.data = data  \n",
    "        self.next = None\n",
    "\n",
    "class NodeStack:\n",
    "    def __init__(self):  \n",
    "        self.top = None \n",
    "\n",
    "    def is_empty(self):\n",
    "        return self.top is None \n",
    "\n",
    "    def push(self, item):\n",
    "        new_node = Node(item)  \n",
    "        new_node.next = self.top  \n",
    "        self.top = new_node  \n",
    "\n",
    "    def pop(self):\n",
    "        if not self.is_empty():\n",
    "            popped_item = self.top.data \n",
    "            self.top = self.top.next \n",
    "            return popped_item\n",
    "        else:\n",
    "            print(\"Stack is empty\")\n",
    "            return None\n",
    "\n",
    "    def peek(self):\n",
    "        if not self.is_empty():\n",
    "            return self.top.data  \n",
    "        else:\n",
    "            print(\"Stack is empty\")\n",
    "            return None\n",
    "\n",
    "    def size(self):\n",
    "        current = self.top\n",
    "        count = 0\n",
    "        while current:\n",
    "            count += 1  \n",
    "            current = current.next  \n",
    "        return count"
   ]
  },
  {
   "cell_type": "code",
   "execution_count": 57,
   "id": "b3ec196e-3618-4242-bd12-0dbfb35242f4",
   "metadata": {},
   "outputs": [],
   "source": [
    "# Creating an instance of NodeStack\n",
    "stack = NodeStack()"
   ]
  },
  {
   "cell_type": "code",
   "execution_count": 59,
   "id": "d72f8744-55f7-41f9-b388-d4feb8e1da26",
   "metadata": {},
   "outputs": [],
   "source": [
    "# Pushing items onto the stack\n",
    "stack.push(1)\n",
    "stack.push(2)\n",
    "stack.push(3)\n"
   ]
  },
  {
   "cell_type": "code",
   "execution_count": 61,
   "id": "8f984fea-faa4-4d17-8a97-3e5292009798",
   "metadata": {},
   "outputs": [
    {
     "name": "stdout",
     "output_type": "stream",
     "text": [
      "Peek: 3\n"
     ]
    }
   ],
   "source": [
    "# Display the top item using peek\n",
    "print(\"Peek:\", stack.peek())  \n"
   ]
  },
  {
   "cell_type": "code",
   "execution_count": 63,
   "id": "83945898-7d9c-4932-852e-1817d3d40cc1",
   "metadata": {},
   "outputs": [
    {
     "name": "stdout",
     "output_type": "stream",
     "text": [
      "Pop: 3\n"
     ]
    }
   ],
   "source": [
    "# Popping items from the stack\n",
    "print(\"Pop:\", stack.pop())"
   ]
  },
  {
   "cell_type": "code",
   "execution_count": 65,
   "id": "e3d680a4-1a4c-44c7-81f8-47e7a986f5dd",
   "metadata": {},
   "outputs": [
    {
     "name": "stdout",
     "output_type": "stream",
     "text": [
      "Stack size: 2\n"
     ]
    }
   ],
   "source": [
    "# Display the size of the stack\n",
    "print(\"Stack size:\", stack.size())"
   ]
  },
  {
   "cell_type": "code",
   "execution_count": 67,
   "id": "4a7278ce-e64e-4339-b532-bf47d117067b",
   "metadata": {},
   "outputs": [
    {
     "name": "stdout",
     "output_type": "stream",
     "text": [
      "Pop: 2\n",
      "Pop: 1\n"
     ]
    }
   ],
   "source": [
    "# Popping more items\n",
    "print(\"Pop:\", stack.pop())    \n",
    "print(\"Pop:\", stack.pop())    \n"
   ]
  },
  {
   "cell_type": "code",
   "execution_count": 69,
   "id": "507e200e-71fe-4fda-b202-8e226ffa5999",
   "metadata": {},
   "outputs": [
    {
     "name": "stdout",
     "output_type": "stream",
     "text": [
      "Stack is empty\n",
      "Pop: None\n"
     ]
    }
   ],
   "source": [
    "# Trying to pop from an empty stack\n",
    "print(\"Pop:\", stack.pop())    \n"
   ]
  }
 ],
 "metadata": {
  "kernelspec": {
   "display_name": "Python 3 (ipykernel)",
   "language": "python",
   "name": "python3"
  },
  "language_info": {
   "codemirror_mode": {
    "name": "ipython",
    "version": 3
   },
   "file_extension": ".py",
   "mimetype": "text/x-python",
   "name": "python",
   "nbconvert_exporter": "python",
   "pygments_lexer": "ipython3",
   "version": "3.12.4"
  }
 },
 "nbformat": 4,
 "nbformat_minor": 5
}
