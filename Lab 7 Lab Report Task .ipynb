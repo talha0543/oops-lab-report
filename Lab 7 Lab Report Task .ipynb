{
 "cells": [
  {
   "cell_type": "markdown",
   "id": "1de73117-366c-40d2-b144-075d7354fbaf",
   "metadata": {},
   "source": [
    " #  NAME: MUHAMMAD TALHA\n",
    " # REG NO: 23JZELE0543 \n",
    " # SECTI0N: B"
   ]
  },
  {
   "cell_type": "markdown",
   "id": "22247f16-4647-4ddf-a61f-184f2e12a05b",
   "metadata": {},
   "source": [
    "# Lab Title: EE-271 “OOP & Data Structures Lab\n"
   ]
  },
  {
   "cell_type": "markdown",
   "id": "edb43294-1265-4bda-b823-e4bc7673ceca",
   "metadata": {},
   "source": [
    "# LAB 7"
   ]
  },
  {
   "cell_type": "markdown",
   "id": "6760f9fe-f6cb-4063-93a1-93f1f38cde61",
   "metadata": {},
   "source": [
    "# Lab Report task:"
   ]
  },
  {
   "cell_type": "markdown",
   "id": "15313055-93c3-4b52-b420-b1fbd4edb17d",
   "metadata": {},
   "source": [
    "# Problem 1:"
   ]
  },
  {
   "cell_type": "code",
   "execution_count": 59,
   "id": "fa419702-33b9-4c03-b5bd-bec20cc8a203",
   "metadata": {},
   "outputs": [],
   "source": [
    "class Square:\n",
    "    def __init__(self, side_length):\n",
    "        self.side_length = side_length\n",
    "        \n",
    "    def area(self):\n",
    "        return self.side_length ** 2\n",
    "    \n",
    "    def perimeter(self):\n",
    "        return 4 * self.side_length\n",
    "\n",
    "class Cube(Square):\n",
    "    def __init__(self, side_length):\n",
    "        super().__init__(side_length)\n",
    "    \n",
    "    def volume(self):\n",
    "        return self.side_length ** 3\n",
    "    \n",
    "    def surface_area(self):\n",
    "        return 6 * (self.side_length ** 2)"
   ]
  },
  {
   "cell_type": "code",
   "execution_count": 61,
   "id": "8d8c49ac-b40e-440b-8cff-00387aee5455",
   "metadata": {},
   "outputs": [
    {
     "name": "stdout",
     "output_type": "stream",
     "text": [
      "Cube 1 Volume: 27\n",
      "Cube 1 Surface Area: 54\n",
      "Cube 2 Volume: 125\n",
      "Cube 2 Surface Area: 150\n"
     ]
    }
   ],
   "source": [
    "cube1 = Cube(3) \n",
    "cube2 = Cube(5)  \n",
    "\n",
    "# Call instance methods on the first cube (cube1)\n",
    "print(f\"Cube 1 Volume: {cube1.volume()}\")\n",
    "print(f\"Cube 1 Surface Area: {cube1.surface_area()}\")\n",
    "\n",
    "# Call instance methods on the second cube (cube2)\n",
    "print(f\"Cube 2 Volume: {cube2.volume()}\")\n",
    "print(f\"Cube 2 Surface Area: {cube2.surface_area()}\")  "
   ]
  },
  {
   "cell_type": "markdown",
   "id": "1bb641b3-eed6-416d-8bb3-503ddc6f78da",
   "metadata": {},
   "source": [
    "# Problem 2:"
   ]
  },
  {
   "cell_type": "code",
   "execution_count": 64,
   "id": "2a6e32d1-6a39-48bc-8a87-03392c94ed91",
   "metadata": {},
   "outputs": [],
   "source": [
    "# Square class (parent class)\n",
    "class Square:\n",
    "    def __init__(self, side_length):\n",
    "        self.side_length = side_length\n",
    "        \n",
    "    def area(self):\n",
    "        return self.side_length ** 2\n",
    "    \n",
    "    def perimeter(self):\n",
    "        return 4 * self.side_length\n",
    "\n",
    "class Rectangle(Square):\n",
    "    def __init__(self, width, height):\n",
    "        self.width = width\n",
    "        self.height = height\n",
    "    \n",
    "    def area(self):\n",
    "        return self.width * self.height\n",
    "    \n",
    "    def perimeter(self):\n",
    "        return 2 * (self.width + self.height)"
   ]
  },
  {
   "cell_type": "code",
   "execution_count": 66,
   "id": "ee909483-9aa9-4b1f-9f12-c6ef22df08d6",
   "metadata": {},
   "outputs": [
    {
     "name": "stdout",
     "output_type": "stream",
     "text": [
      "Rectangle 1 Area: 24\n",
      "Rectangle 1 Perimeter: 20\n",
      "Rectangle 2 Area: 21\n",
      "Rectangle 2 Perimeter: 20\n"
     ]
    }
   ],
   "source": [
    "rectangle1 = Rectangle(4, 6)  \n",
    "rectangle2 = Rectangle(7, 3)  \n",
    "\n",
    "print(f\"Rectangle 1 Area: {rectangle1.area()}\") \n",
    "print(f\"Rectangle 1 Perimeter: {rectangle1.perimeter()}\")  \n",
    "print(f\"Rectangle 2 Area: {rectangle2.area()}\")  \n",
    "print(f\"Rectangle 2 Perimeter: {rectangle2.perimeter()}\")  \n"
   ]
  },
  {
   "cell_type": "markdown",
   "id": "4c8d2cef-60a1-41ce-a891-49e260d419fe",
   "metadata": {},
   "source": [
    "# Problem 3:"
   ]
  },
  {
   "cell_type": "code",
   "execution_count": 69,
   "id": "523b8f4d-bdf3-4ce0-86cd-1c51a222e2df",
   "metadata": {},
   "outputs": [],
   "source": [
    "import math\n",
    "\n",
    "# Point2D class (parent class)\n",
    "class Point2D:\n",
    "    def __init__(self, x, y):\n",
    "        self.x = x\n",
    "        self.y = y\n",
    "        \n",
    "    def distance_from_origin(self):\n",
    "        return math.sqrt(self.x ** 2 + self.y ** 2)\n",
    "\n",
    "# Cube class (child class, inheriting from Point2D)\n",
    "class Cube(Point2D):\n",
    "    def __init__(self, x, y, z):\n",
    "        super().__init__(x, y)\n",
    "        self.z = z\n",
    "    \n",
    "    def distance_from_origin(self):\n",
    "        return math.sqrt(self.x ** 2 + self.y ** 2 + self.z ** 2)\n",
    "\n"
   ]
  },
  {
   "cell_type": "code",
   "execution_count": 71,
   "id": "af73f9ca-1676-4a63-918e-ba206d123fe2",
   "metadata": {},
   "outputs": [
    {
     "name": "stdout",
     "output_type": "stream",
     "text": [
      "Cube 1 Distance from Origin: 7.0710678118654755\n",
      "Cube 2 Distance from Origin: 3.0\n"
     ]
    }
   ],
   "source": [
    "cube1 = Cube(3, 4, 5)  \n",
    "cube2 = Cube(1, 2, 2)\n",
    "\n",
    "print(f\"Cube 1 Distance from Origin: {cube1.distance_from_origin()}\")\n",
    "print(f\"Cube 2 Distance from Origin: {cube2.distance_from_origin()}\")"
   ]
  },
  {
   "cell_type": "markdown",
   "id": "61ff58c4-fc97-4ca3-be25-3066484a7991",
   "metadata": {},
   "source": [
    "# Problem 4:"
   ]
  },
  {
   "cell_type": "code",
   "execution_count": 74,
   "id": "a855dc2b-f612-426d-b491-7b57170ea346",
   "metadata": {},
   "outputs": [],
   "source": [
    "# Base Employee Class\n",
    "class Employee:\n",
    "    def __init__(self, employee_id, name):\n",
    "        self.id = employee_id\n",
    "        self.name = name\n",
    "        \n",
    "    def calculate_payroll(self):\n",
    "        raise NotImplementedError(\"This method should be overridden in the subclass\")\n",
    "\n",
    "# SalaryEmployee Class (Administrative Workers)\n",
    "class SalaryEmployee(Employee):\n",
    "    def __init__(self, employee_id, name, weekly_salary):\n",
    "        super().__init__(employee_id, name)\n",
    "        self.weekly_salary = weekly_salary\n",
    "    \n",
    "    def calculate_payroll(self):\n",
    "        return self.weekly_salary\n",
    "\n",
    "# HourlyEmployee Class (Manufacturing Workers)\n",
    "class HourlyEmployee(Employee):\n",
    "    def __init__(self, employee_id, name, hours_worked, hourly_rate):\n",
    "        super().__init__(employee_id, name)\n",
    "        self.hours_worked = hours_worked\n",
    "        self.hourly_rate = hourly_rate\n",
    "    \n",
    "    def calculate_payroll(self):\n",
    "        return self.hours_worked * self.hourly_rate\n",
    "\n",
    "# CommissionEmployee Class (Sales Associates)\n",
    "class CommissionEmployee(SalaryEmployee):\n",
    "    def __init__(self, employee_id, name, weekly_salary, commission_rate, sales):\n",
    "        super().__init__(employee_id, name, weekly_salary)\n",
    "        self.commission_rate = commission_rate\n",
    "        self.sales = sales\n",
    "    \n",
    "    def calculate_payroll(self):\n",
    "        commission = self.sales * self.commission_rate\n",
    "        return self.weekly_salary + commission\n",
    "\n",
    "# PayrollSystem Class\n",
    "class PayrollSystem:\n",
    "    def calculate_payroll(self, employees):\n",
    "        for employee in employees:\n",
    "            payroll = employee.calculate_payroll()\n",
    "            print(f\"Employee ID: {employee.id}, Name: {employee.name}, Payroll: ${payroll:.2f}\")\n",
    "            print(\"=\" * 40)\n"
   ]
  },
  {
   "cell_type": "code",
   "execution_count": 83,
   "id": "82eff09b-22a4-4f84-b80a-acdfe9c1e1d1",
   "metadata": {},
   "outputs": [
    {
     "name": "stdout",
     "output_type": "stream",
     "text": [
      "Employee ID: 1, Name: shehwar, Payroll: $1000.00\n",
      "========================================\n",
      "Employee ID: 2, Name: nabeal, Payroll: $800.00\n",
      "========================================\n",
      "Employee ID: 3, Name: aihab, Payroll: $1050.00\n",
      "========================================\n"
     ]
    }
   ],
   "source": [
    "salary_employee = SalaryEmployee(1, \"shehwar\", 1000)  \n",
    "hourly_employee = HourlyEmployee(2, \"nabeal\", 40, 20)  \n",
    "commission_employee = CommissionEmployee(3, \"aihab\", 800, 0.05, 5000)  \n",
    "\n",
    "employees = [salary_employee, hourly_employee, commission_employee]\n",
    "\n",
    "# Create an instance of PayrollSystem\n",
    "payroll_system = PayrollSystem()\n",
    "\n",
    "# Process payroll\n",
    "payroll_system.calculate_payroll(employees)"
   ]
  },
  {
   "cell_type": "markdown",
   "id": "74795c69-dc61-4e07-a39f-f87c965e33e7",
   "metadata": {},
   "source": [
    "# Problem 5:"
   ]
  },
  {
   "cell_type": "code",
   "execution_count": 79,
   "id": "fcbd9f0a-1976-4c72-bcf5-fc893ecc20b8",
   "metadata": {},
   "outputs": [],
   "source": [
    "# Base class for Employee\n",
    "class Employee:\n",
    "    def __init__(self, fName, lName, email, pay):\n",
    "        self.fName = fName\n",
    "        self.lName = lName\n",
    "        self.email = email\n",
    "        self.pay = pay\n",
    "    \n",
    "    def raisePay(self, amount):\n",
    "        self.pay += amount\n",
    "        print(f\"{self.fName} {self.lName}'s pay has been raised to ${self.pay:.2f}\")\n",
    "\n",
    "# Instructor Class (inherits from Employee)\n",
    "class Instructor(Employee):\n",
    "    def __init__(self, fName, lName, email, pay, design):\n",
    "        super().__init__(fName, lName, email, pay)\n",
    "        self.design = design  \n",
    "        self.courses = []\n",
    "\n",
    "    def assignCourse(self, course_name):\n",
    "        self.courses.append(course_name)\n",
    "        print(f\"{self.fName} {self.lName} has been assigned to teach the course: {course_name}\")\n",
    "\n",
    "# AdminStaff Class (inherits from Employee)\n",
    "class AdminStaff(Employee):\n",
    "    def __init__(self, fName, lName, email, pay, team=None):\n",
    "        super().__init__(fName, lName, email, pay)\n",
    "        self.team = team if team else []  \n",
    "        self.tasks = []  \n",
    "\n",
    "    def assignTask(self, task_name):\n",
    "        self.tasks.append(task_name)\n",
    "        print(f\"{self.fName} {self.lName} has been assigned the task: {task_name}\")"
   ]
  },
  {
   "cell_type": "code",
   "execution_count": 81,
   "id": "f4eb993a-e8a6-432d-87a6-22b9d7bebd80",
   "metadata": {},
   "outputs": [
    {
     "name": "stdout",
     "output_type": "stream",
     "text": [
      "John Doe has been assigned to teach the course: Circuit Analysis\n",
      "John Doe's pay has been raised to $65000.00\n",
      "Jane Smith has been assigned the task: Organize Faculty Meeting\n",
      "Jane Smith's pay has been raised to $48000.00\n"
     ]
    }
   ],
   "source": [
    "# Creating Instructor instance\n",
    "instructor1 = Instructor(\"John\", \"Doe\", \"john.doe@university.com\", 60000, \"Electrical Engineering\")\n",
    "instructor1.assignCourse(\"Circuit Analysis\")\n",
    "instructor1.raisePay(5000)\n",
    "\n",
    "# Creating AdminStaff instance\n",
    "admin1 = AdminStaff(\"Jane\", \"Smith\", \"jane.smith@university.com\", 45000, team=[\"Alice\", \"Bob\"])\n",
    "admin1.assignTask(\"Organize Faculty Meeting\")\n",
    "admin1.raisePay(3000)"
   ]
  }
 ],
 "metadata": {
  "kernelspec": {
   "display_name": "Python 3 (ipykernel)",
   "language": "python",
   "name": "python3"
  },
  "language_info": {
   "codemirror_mode": {
    "name": "ipython",
    "version": 3
   },
   "file_extension": ".py",
   "mimetype": "text/x-python",
   "name": "python",
   "nbconvert_exporter": "python",
   "pygments_lexer": "ipython3",
   "version": "3.12.4"
  }
 },
 "nbformat": 4,
 "nbformat_minor": 5
}
