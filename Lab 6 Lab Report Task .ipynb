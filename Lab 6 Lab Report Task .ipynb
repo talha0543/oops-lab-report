{
 "cells": [
  {
   "cell_type": "markdown",
   "id": "bc5e89af-2358-4206-a3b2-9f85ba24265f",
   "metadata": {},
   "source": [
    " #  NAME: MUHAMMAD TALHA\n",
    " # REG NO: 23JZELE0543 \n",
    " # SECTI0N: B"
   ]
  },
  {
   "cell_type": "markdown",
   "id": "88c3c6e2-fa27-4967-9dc4-7764107fa929",
   "metadata": {},
   "source": [
    "# Lab Title:  EE-271 “OOP & Data Structures Lab” "
   ]
  },
  {
   "cell_type": "markdown",
   "id": "20f502b2-3287-4c40-9121-f74045a38321",
   "metadata": {},
   "source": [
    "# Lab 6: Classes 3 @property and @property.setter, @property, @ staticmethod and @classmethod"
   ]
  },
  {
   "cell_type": "markdown",
   "id": "e1385d1d-b6e4-408b-b0f7-e72960c3a9c4",
   "metadata": {},
   "source": [
    "# Lab Report task:"
   ]
  },
  {
   "cell_type": "markdown",
   "id": "bd8d6135-bdee-480e-8d03-e3412272f165",
   "metadata": {},
   "source": [
    "![](6p3.jpg)"
   ]
  },
  {
   "cell_type": "code",
   "execution_count": 14,
   "id": "03609a69-e630-423f-84e8-48424fd0dd69",
   "metadata": {},
   "outputs": [],
   "source": [
    "import math\n",
    "\n",
    "class Circle:\n",
    "    def __init__(self, radius: float = 1.0) -> None:\n",
    "        self._radius = radius\n",
    "\n",
    "    @property\n",
    "    def radius(self) -> float:\n",
    "        return self._radius\n",
    "\n",
    "    @radius.setter\n",
    "    def radius(self, value: float) -> None:\n",
    "        self._radius = value\n",
    "\n",
    "    @property\n",
    "    def diameter(self) -> float:\n",
    "        return self.radius * 2\n",
    "\n",
    "    @property\n",
    "    def area(self) -> float:\n",
    "        return math.pi * (self.radius ** 2)\n",
    "\n",
    "    @property\n",
    "    def circumference(self) -> float:\n",
    "        return 2 * math.pi * self.radius\n",
    "\n",
    "    def volume_of_cylinder(self, height: float) -> float:\n",
    "        return self.area * height\n",
    "\n",
    "    def __repr__(self) -> str:\n",
    "        return f\"Circle(radius={self.radius})\"\n",
    "\n",
    "    def __str__(self) -> str:\n",
    "        return f\"Circle with radius {self.radius}\"\n",
    "\n",
    "    @staticmethod\n",
    "    def unit_circle() -> 'Circle':\n",
    "        return Circle(1)\n",
    "\n",
    "    @classmethod\n",
    "    def from_diameter(cls, diameter: float) -> 'Circle':\n",
    "        return cls(diameter / 2)"
   ]
  },
  {
   "cell_type": "code",
   "execution_count": 16,
   "id": "29113701-5ae7-4c3d-bbe3-2c8f73a2e796",
   "metadata": {},
   "outputs": [],
   "source": [
    "# Create instances of the Circle class\n",
    "inst_1 = Circle(3)  \n",
    "inst_2 = Circle(5)  \n"
   ]
  },
  {
   "cell_type": "code",
   "execution_count": 18,
   "id": "e1f33c80-59d7-4762-9d4f-8de042d72b4a",
   "metadata": {},
   "outputs": [
    {
     "name": "stdout",
     "output_type": "stream",
     "text": [
      "Circle with radius 3\n",
      "Circle with radius 5\n"
     ]
    }
   ],
   "source": [
    "# Print instances\n",
    "print(inst_1)\n",
    "print(inst_2)"
   ]
  },
  {
   "cell_type": "code",
   "execution_count": 20,
   "id": "69d70a63-55af-4f3b-b455-2bc3c4ebd68d",
   "metadata": {},
   "outputs": [
    {
     "name": "stdout",
     "output_type": "stream",
     "text": [
      "Radius of inst_1: 3\n",
      "Diameter of inst_1: 6\n",
      "Area of inst_1: 28.274333882308138\n",
      "Circumference of inst_1: 18.84955592153876\n"
     ]
    }
   ],
   "source": [
    "# Demonstrate property methods\n",
    "print(f\"Radius of inst_1: {inst_1.radius}\")\n",
    "print(f\"Diameter of inst_1: {inst_1.diameter}\")\n",
    "print(f\"Area of inst_1: {inst_1.area}\")\n",
    "print(f\"Circumference of inst_1: {inst_1.circumference}\")\n"
   ]
  },
  {
   "cell_type": "code",
   "execution_count": 22,
   "id": "6f3dab51-e0ac-4c97-a367-88ab80e14722",
   "metadata": {},
   "outputs": [
    {
     "name": "stdout",
     "output_type": "stream",
     "text": [
      "Circle with radius 1\n",
      "Circle with radius 5.0\n"
     ]
    }
   ],
   "source": [
    "# Demonstrate static and class methods\n",
    "unit_circle = Circle.unit_circle()\n",
    "print(unit_circle)\n",
    "\n",
    "circle_from_diameter = Circle.from_diameter(10)\n",
    "print(circle_from_diameter)"
   ]
  },
  {
   "cell_type": "code",
   "execution_count": 24,
   "id": "dfdeb1c7-377a-46ba-8893-6fed147c4f8e",
   "metadata": {},
   "outputs": [
    {
     "name": "stdout",
     "output_type": "stream",
     "text": [
      "Volume of cylinder with radius 3 and height 4: 113.09733552923255\n"
     ]
    }
   ],
   "source": [
    "# Calculate volume of a cylinder using inst_1\n",
    "height = 4\n",
    "volume = inst_1.volume_of_cylinder(height)\n",
    "print(f\"Volume of cylinder with radius {inst_1.radius} and height {height}: {volume}\")\n"
   ]
  },
  {
   "cell_type": "code",
   "execution_count": 26,
   "id": "55bff79b-c8c2-4af8-a0d4-994f8e11ebb2",
   "metadata": {},
   "outputs": [
    {
     "name": "stdout",
     "output_type": "stream",
     "text": [
      "\n",
      "Class __dict__:\n",
      "{'__module__': '__main__', '__init__': <function Circle.__init__ at 0x000001D069CEC220>, 'radius': <property object at 0x000001D06B3BBBF0>, 'diameter': <property object at 0x000001D06B3BB6A0>, 'area': <property object at 0x000001D06B3B96C0>, 'circumference': <property object at 0x000001D06B3BA110>, 'volume_of_cylinder': <function Circle.volume_of_cylinder at 0x000001D069CEC5E0>, '__repr__': <function Circle.__repr__ at 0x000001D069CEC680>, '__str__': <function Circle.__str__ at 0x000001D069CEC720>, 'unit_circle': <staticmethod(<function Circle.unit_circle at 0x000001D069CEC7C0>)>, 'from_diameter': <classmethod(<function Circle.from_diameter at 0x000001D069CEC860>)>, '__dict__': <attribute '__dict__' of 'Circle' objects>, '__weakref__': <attribute '__weakref__' of 'Circle' objects>, '__doc__': None}\n"
     ]
    }
   ],
   "source": [
    "# Accessing __dict__ by class name\n",
    "print(\"\\nClass __dict__:\")\n",
    "print(Circle.__dict__)"
   ]
  },
  {
   "cell_type": "code",
   "execution_count": 28,
   "id": "3fa09c53-4716-43c9-bdf7-c79b3f01d7b7",
   "metadata": {},
   "outputs": [
    {
     "name": "stdout",
     "output_type": "stream",
     "text": [
      "\n",
      "Vars for Circle class:\n",
      "{'__module__': '__main__', '__init__': <function Circle.__init__ at 0x000001D069CEC220>, 'radius': <property object at 0x000001D06B3BBBF0>, 'diameter': <property object at 0x000001D06B3BB6A0>, 'area': <property object at 0x000001D06B3B96C0>, 'circumference': <property object at 0x000001D06B3BA110>, 'volume_of_cylinder': <function Circle.volume_of_cylinder at 0x000001D069CEC5E0>, '__repr__': <function Circle.__repr__ at 0x000001D069CEC680>, '__str__': <function Circle.__str__ at 0x000001D069CEC720>, 'unit_circle': <staticmethod(<function Circle.unit_circle at 0x000001D069CEC7C0>)>, 'from_diameter': <classmethod(<function Circle.from_diameter at 0x000001D069CEC860>)>, '__dict__': <attribute '__dict__' of 'Circle' objects>, '__weakref__': <attribute '__weakref__' of 'Circle' objects>, '__doc__': None}\n"
     ]
    }
   ],
   "source": [
    "# Using vars() built-in function\n",
    "print(\"\\nVars for Circle class:\")\n",
    "print(vars(Circle))"
   ]
  },
  {
   "cell_type": "code",
   "execution_count": 30,
   "id": "85b7c412-95bc-4fe3-8bc4-c34c814c4c93",
   "metadata": {},
   "outputs": [
    {
     "name": "stdout",
     "output_type": "stream",
     "text": [
      "\n",
      "Instance __dict__ for inst_1:\n",
      "{'_radius': 3}\n"
     ]
    }
   ],
   "source": [
    "# Calling __dict__ on the object\n",
    "print(\"\\nInstance __dict__ for inst_1:\")\n",
    "print(vars(inst_1))"
   ]
  },
  {
   "cell_type": "code",
   "execution_count": 32,
   "id": "953f837c-6e4e-4300-aa3d-5850e531974f",
   "metadata": {},
   "outputs": [
    {
     "name": "stdout",
     "output_type": "stream",
     "text": [
      "\n",
      "Help on Circle class:\n",
      "Help on class Circle in module __main__:\n",
      "\n",
      "class Circle(builtins.object)\n",
      " |  Circle(radius: float = 1.0) -> None\n",
      " |\n",
      " |  Methods defined here:\n",
      " |\n",
      " |  __init__(self, radius: float = 1.0) -> None\n",
      " |      Initialize self.  See help(type(self)) for accurate signature.\n",
      " |\n",
      " |  __repr__(self) -> str\n",
      " |      Return repr(self).\n",
      " |\n",
      " |  __str__(self) -> str\n",
      " |      Return str(self).\n",
      " |\n",
      " |  volume_of_cylinder(self, height: float) -> float\n",
      " |\n",
      " |  ----------------------------------------------------------------------\n",
      " |  Class methods defined here:\n",
      " |\n",
      " |  from_diameter(diameter: float) -> 'Circle'\n",
      " |\n",
      " |  ----------------------------------------------------------------------\n",
      " |  Static methods defined here:\n",
      " |\n",
      " |  unit_circle() -> 'Circle'\n",
      " |\n",
      " |  ----------------------------------------------------------------------\n",
      " |  Readonly properties defined here:\n",
      " |\n",
      " |  area\n",
      " |\n",
      " |  circumference\n",
      " |\n",
      " |  diameter\n",
      " |\n",
      " |  ----------------------------------------------------------------------\n",
      " |  Data descriptors defined here:\n",
      " |\n",
      " |  __dict__\n",
      " |      dictionary for instance variables\n",
      " |\n",
      " |  __weakref__\n",
      " |      list of weak references to the object\n",
      " |\n",
      " |  radius\n",
      "\n"
     ]
    }
   ],
   "source": [
    "# Help on the class\n",
    "print(\"\\nHelp on Circle class:\")\n",
    "help(Circle)"
   ]
  },
  {
   "cell_type": "code",
   "execution_count": 34,
   "id": "6d6a6b66-ad09-45aa-a5a8-a3658c12c3ef",
   "metadata": {},
   "outputs": [
    {
     "name": "stdout",
     "output_type": "stream",
     "text": [
      "\n",
      "Class Docstring:\n",
      "None\n",
      "\n",
      "Methods and Their Docstrings:\n",
      "\n",
      "__init__:\n",
      "Docstring: None\n",
      "Annotations: {'radius': <class 'float'>, 'return': None}\n",
      "\n",
      "volume_of_cylinder:\n",
      "Docstring: None\n",
      "Annotations: {'height': <class 'float'>, 'return': <class 'float'>}\n",
      "\n",
      "diameter:\n",
      "Docstring: None\n",
      "Annotations: {'return': <class 'float'>}\n",
      "\n",
      "area:\n",
      "Docstring: None\n",
      "Annotations: {'return': <class 'float'>}\n",
      "\n",
      "circumference:\n",
      "Docstring: None\n",
      "Annotations: {'return': <class 'float'>}\n",
      "\n",
      "__repr__:\n",
      "Docstring: None\n",
      "Annotations: {'return': <class 'str'>}\n",
      "\n",
      "__str__:\n",
      "Docstring: None\n",
      "Annotations: {'return': <class 'str'>}\n",
      "\n",
      "unit_circle:\n",
      "Docstring: None\n",
      "Annotations: {'return': 'Circle'}\n",
      "\n",
      "from_diameter:\n",
      "Docstring: None\n",
      "Annotations: {'diameter': <class 'float'>, 'return': 'Circle'}\n"
     ]
    }
   ],
   "source": [
    "# Print doc-strings and annotations of the class and methods\n",
    "print(\"\\nClass Docstring:\")\n",
    "print(Circle.__doc__)\n",
    "\n",
    "print(\"\\nMethods and Their Docstrings:\")\n",
    "for method in [\n",
    "    Circle.__init__,\n",
    "    Circle.volume_of_cylinder,\n",
    "    Circle.diameter.fget,\n",
    "    Circle.area.fget,\n",
    "    Circle.circumference.fget,\n",
    "    Circle.__repr__,\n",
    "    Circle.__str__,\n",
    "    Circle.unit_circle,\n",
    "    Circle.from_diameter,\n",
    "]:\n",
    "    print(f\"\\n{method.__name__}:\")\n",
    "    print(f\"Docstring: {method.__doc__}\")\n",
    "    print(f\"Annotations: {method.__annotations__}\")"
   ]
  },
  {
   "cell_type": "code",
   "execution_count": 36,
   "id": "6f8c497b-eef5-4fee-83ae-5df38fceab2d",
   "metadata": {},
   "outputs": [
    {
     "name": "stdout",
     "output_type": "stream",
     "text": [
      "\n",
      "Default Circle instance:\n",
      "Circle with radius 1.0\n"
     ]
    }
   ],
   "source": [
    "# Verify modified __init__ with default parameters\n",
    "inst_default = Circle()  # uses default parameters\n",
    "print(\"\\nDefault Circle instance:\")\n",
    "print(inst_default)"
   ]
  }
 ],
 "metadata": {
  "kernelspec": {
   "display_name": "Python 3 (ipykernel)",
   "language": "python",
   "name": "python3"
  },
  "language_info": {
   "codemirror_mode": {
    "name": "ipython",
    "version": 3
   },
   "file_extension": ".py",
   "mimetype": "text/x-python",
   "name": "python",
   "nbconvert_exporter": "python",
   "pygments_lexer": "ipython3",
   "version": "3.12.4"
  }
 },
 "nbformat": 4,
 "nbformat_minor": 5
}
