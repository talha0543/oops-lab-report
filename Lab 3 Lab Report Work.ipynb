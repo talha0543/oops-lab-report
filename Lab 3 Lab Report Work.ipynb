{
 "cells": [
  {
   "cell_type": "markdown",
   "id": "95a75fff-6c50-4c61-9b1a-c5937593b5a2",
   "metadata": {},
   "source": [
    " #  NAME: MUHAMMAD TALHA\r\n",
    " # REG NO: 23JZELE0543 \r\n",
    " # SECTI0N: B"
   ]
  },
  {
   "cell_type": "markdown",
   "id": "0b16d1cf-3131-4b96-9f95-387893932448",
   "metadata": {},
   "source": [
    "# Lab 3: List, Tuple, and Dictionary"
   ]
  },
  {
   "cell_type": "markdown",
   "id": "cb17db8a-f109-46f6-a87a-da3678e4d532",
   "metadata": {},
   "source": [
    "# Lab Title: EE-271 “OOP & Data Structures Lab”"
   ]
  },
  {
   "cell_type": "markdown",
   "id": "90f29c10-5c6d-4b40-b07c-059fe424e59e",
   "metadata": {},
   "source": [
    "# Lab Report Work"
   ]
  },
  {
   "cell_type": "markdown",
   "id": "ca7e61e3-202e-45c3-a6fc-9bebe6a6625f",
   "metadata": {},
   "source": [
    "# (1)."
   ]
  },
  {
   "cell_type": "code",
   "execution_count": 1,
   "id": "29b7e376-7e54-4f93-82e5-b67a0cb9593b",
   "metadata": {},
   "outputs": [
    {
     "name": "stdout",
     "output_type": "stream",
     "text": [
      "Name: Muhammad Talha, Registration Number: 505, CGPA: 3.8, GPA per Semester: [3.7, 3.7, 3.8, 3.9]\n",
      "Name: Ahmad, Registration Number: 506, CGPA: 3.6, GPA per Semester: [3.2, 3.8, 3.9, 3.7]\n",
      "Name: M Ahmad, Registration Number: 507, CGPA: 3.9, GPA per Semester: [4.0, 3.8, 4.0, 3.9]\n",
      "Name: anas, Registration Number: 508, CGPA: 3.7, GPA per Semester: [3.6, 3.7, 3.8, 3.9]\n",
      "Name: usman, Registration Number: 509, CGPA: 3.5, GPA per Semester: [3.3, 3.5, 3.7, 3.8]\n"
     ]
    }
   ],
   "source": [
    "students = [\n",
    "    [\"Muhammad Talha\", 505, 3.8, [3.7, 3.7, 3.8, 3.9]],\n",
    "    [\"Ahmad\", 506, 3.6, [3.2, 3.8, 3.9, 3.7]],\n",
    "    [\"M Ahmad\", 507, 3.9, [4.0, 3.8, 4.0, 3.9]],\n",
    "    [\"anas\", 508, 3.7, [3.6, 3.7, 3.8, 3.9]],\n",
    "    [\"usman\", 509, 3.5, [3.3, 3.5, 3.7, 3.8]],\n",
    "]\n",
    "for student in students:\n",
    "    name = student[0]\n",
    "    reg_number = student[1]\n",
    "    cgpa = student[2]\n",
    "    gpas = student[3]\n",
    "    \n",
    "    print(f\"Name: {name}, Registration Number: {reg_number}, CGPA: {cgpa}, GPA per Semester: {gpas}\")"
   ]
  },
  {
   "cell_type": "markdown",
   "id": "00322b6d-e10c-4a73-afc3-d9f607683e1a",
   "metadata": {},
   "source": [
    "# (2)."
   ]
  },
  {
   "cell_type": "code",
   "execution_count": 13,
   "id": "2ea0175d-52e5-418b-812f-28dd9ade5241",
   "metadata": {},
   "outputs": [
    {
     "name": "stdout",
     "output_type": "stream",
     "text": [
      "Accessed Elements:\n",
      "a\n",
      "['bb', ['ccc', 'ddd'], 'ee', 'ff']\n",
      "g\n",
      "['hh', 'ii']\n",
      "j\n"
     ]
    }
   ],
   "source": [
    "x = [\"a\", [\"bb\", [\"ccc\", \"ddd\"], \"ee\", \"ff\"], \"g\", [\"hh\", \"ii\"], \"j\"]\n",
    "\n",
    "# Accessing each element\n",
    "element_0 = x[0]\n",
    "element_1 = x[1]  \n",
    "element_2 = x[2]  \n",
    "element_3 = x[3]  \n",
    "element_4 = x[4]  \n",
    "\n",
    "print(\"Accessed Elements:\")\n",
    "print(element_0)            \n",
    "print(element_1)            \n",
    "print(element_2)            \n",
    "print(element_3)            \n",
    "print(element_4)            "
   ]
  },
  {
   "cell_type": "code",
   "execution_count": 15,
   "id": "3164c8e0-e2a2-4a3f-b302-120a218af488",
   "metadata": {},
   "outputs": [
    {
     "name": "stdout",
     "output_type": "stream",
     "text": [
      "Accessed Elements:\n",
      "bb\n",
      "['ccc', 'ddd']\n",
      "ccc\n",
      "ddd\n",
      "ee\n",
      "ff\n",
      "hh\n",
      "ii\n"
     ]
    }
   ],
   "source": [
    "# Accessing nested elements\n",
    "element_1_0 = x[1][0]           \n",
    "element_1_1 = x[1][1]           \n",
    "element_1_1_0 = x[1][1][0]      \n",
    "element_1_1_1 = x[1][1][1]    \n",
    "element_1_2 = x[1][2]          \n",
    "element_1_3 = x[1][3]           \n",
    "element_3_0 = x[3][0]           \n",
    "element_3_1 = x[3][1]           \n",
    "\n",
    "print(\"Accessed Elements:\")\n",
    "print(element_1_0)         \n",
    "print(element_1_1)          \n",
    "print(element_1_1_0)        \n",
    "print(element_1_1_1)        \n",
    "print(element_1_2)          \n",
    "print(element_1_3)          \n",
    "print(element_3_0)          \n",
    "print(element_3_1)          \n"
   ]
  },
  {
   "cell_type": "code",
   "execution_count": 17,
   "id": "24befe84-cf5d-4793-9773-60cde95195c8",
   "metadata": {},
   "outputs": [
    {
     "data": {
      "text/plain": [
       "list[1, 2, 3, 4, 5]"
      ]
     },
     "execution_count": 17,
     "metadata": {},
     "output_type": "execute_result"
    }
   ],
   "source": [
    "list[1,2,3,4,5]"
   ]
  }
 ],
 "metadata": {
  "kernelspec": {
   "display_name": "Python 3 (ipykernel)",
   "language": "python",
   "name": "python3"
  },
  "language_info": {
   "codemirror_mode": {
    "name": "ipython",
    "version": 3
   },
   "file_extension": ".py",
   "mimetype": "text/x-python",
   "name": "python",
   "nbconvert_exporter": "python",
   "pygments_lexer": "ipython3",
   "version": "3.12.4"
  }
 },
 "nbformat": 4,
 "nbformat_minor": 5
}
