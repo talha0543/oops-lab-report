{
 "cells": [
  {
   "cell_type": "markdown",
   "id": "b1ee60ec-db4d-489a-baf0-f9a4b5c54b5d",
   "metadata": {},
   "source": [
    " #  NAME: MUHAMMAD TALHA\n",
    " # REG NO: 23JZELE0543 \n",
    " # SECTI0N: B"
   ]
  },
  {
   "cell_type": "markdown",
   "id": "47106d65-1797-4768-ace1-5d3428964f5d",
   "metadata": {},
   "source": [
    "# LAB 12 QUEUE ALGORITHMS"
   ]
  },
  {
   "cell_type": "markdown",
   "id": "94f46508-e368-4da9-a58d-d05ec540d909",
   "metadata": {},
   "source": [
    "# Lab Title: EE-271 “OOP & Data Structures Lab”"
   ]
  },
  {
   "cell_type": "markdown",
   "id": "8d919470-0629-44f2-b593-eadc615091ff",
   "metadata": {},
   "source": [
    "# AIM:\n",
    "# To understand the concept of queue algorithms in OOP (PYTHON).\n",
    "# INTRODUCTION:\n",
    "# A queue is a fundamental data structure in computer science that follows the First-In-First-Out (FIFO) principle. In a queue, elements are added at the rear (enqueue) and removed \n",
    "# from the front (dequeue). This ensures that the oldest element in the queue is the first to be \n",
    "# processed.\n",
    "# TYPES OF QUEUE:\n",
    "# i. List Queue\n",
    "# ii. Deque Queue\n",
    "# iii. Node base Queue."
   ]
  },
  {
   "cell_type": "markdown",
   "id": "7574b64c-7513-4346-a551-9ca0a972a461",
   "metadata": {},
   "source": [
    "# 1. LIST QUEUE:"
   ]
  },
  {
   "cell_type": "code",
   "execution_count": 17,
   "id": "b3ff17ae-a29f-4c91-b8fc-22f3e2cad144",
   "metadata": {},
   "outputs": [],
   "source": [
    "class Queue:\n",
    "    def __init__(self):\n",
    "        self.items = []  \n",
    "\n",
    "    def is_empty(self):\n",
    "        return len(self.items) == 0  \n",
    "\n",
    "    def enqueue(self, item):\n",
    "        self.items.append(item)  \n",
    "\n",
    "    def dequeue(self):\n",
    "        if not self.is_empty():\n",
    "            return self.items.pop(0)  \n",
    "        else:\n",
    "            print(\"Queue is empty. Cannot dequeue.\")\n",
    "            return None\n",
    "\n",
    "    def peek(self):\n",
    "        if not self.is_empty():\n",
    "            return self.items[0]  \n",
    "        else:\n",
    "            print(\"Queue is empty.\")\n",
    "            return None\n",
    "\n",
    "    def size(self):\n",
    "        return len(self.items)  "
   ]
  },
  {
   "cell_type": "code",
   "execution_count": 35,
   "id": "eea8eb80-ec00-463e-8be2-192923157f86",
   "metadata": {},
   "outputs": [],
   "source": [
    "# Create an instance of Queue\n",
    "my_queue = Queue()"
   ]
  },
  {
   "cell_type": "code",
   "execution_count": 37,
   "id": "f855cb88-116b-4adb-a6bf-9c3f9bf99ab0",
   "metadata": {},
   "outputs": [],
   "source": [
    "# Enqueue elements\n",
    "my_queue.enqueue(1)\n",
    "my_queue.enqueue(2)\n",
    "my_queue.enqueue(3)"
   ]
  },
  {
   "cell_type": "code",
   "execution_count": 39,
   "id": "0cec088a-a009-47f8-8ea9-220cdb45c951",
   "metadata": {},
   "outputs": [
    {
     "name": "stdout",
     "output_type": "stream",
     "text": [
      "Front of the queue: 1\n"
     ]
    }
   ],
   "source": [
    "# Peek at the front element\n",
    "print(\"Front of the queue:\", my_queue.peek())"
   ]
  },
  {
   "cell_type": "code",
   "execution_count": 41,
   "id": "03096219-42bf-4654-8eb4-c2c2c07b3fc2",
   "metadata": {},
   "outputs": [
    {
     "name": "stdout",
     "output_type": "stream",
     "text": [
      "Dequeue: 1\n",
      "Dequeue: 2\n"
     ]
    }
   ],
   "source": [
    "# Dequeue elements\n",
    "print(\"Dequeue:\", my_queue.dequeue())  \n",
    "print(\"Dequeue:\", my_queue.dequeue())"
   ]
  },
  {
   "cell_type": "code",
   "execution_count": 43,
   "id": "d4fef35a-ab52-40f9-8619-dc23a1b3d71d",
   "metadata": {},
   "outputs": [
    {
     "name": "stdout",
     "output_type": "stream",
     "text": [
      "Is the queue empty? False\n"
     ]
    }
   ],
   "source": [
    "# Check if the queue is empty\n",
    "print(\"Is the queue empty?\", my_queue.is_empty())  "
   ]
  },
  {
   "cell_type": "code",
   "execution_count": 45,
   "id": "77290702-cfd3-418f-b062-4b6b09bee198",
   "metadata": {},
   "outputs": [
    {
     "name": "stdout",
     "output_type": "stream",
     "text": [
      "Dequeue: 3\n"
     ]
    }
   ],
   "source": [
    "# Dequeue the last element\n",
    "print(\"Dequeue:\", my_queue.dequeue())"
   ]
  },
  {
   "cell_type": "code",
   "execution_count": 31,
   "id": "6a6e0fd2-e3f6-4fb0-9b5b-967f79c01759",
   "metadata": {},
   "outputs": [
    {
     "name": "stdout",
     "output_type": "stream",
     "text": [
      "Queue is empty. Cannot dequeue.\n",
      "Dequeue: None\n"
     ]
    }
   ],
   "source": [
    "# Try to dequeue from an empty queue\n",
    "print(\"Dequeue:\", my_queue.dequeue())"
   ]
  },
  {
   "cell_type": "code",
   "execution_count": 47,
   "id": "aedd58d4-7c89-43e7-8412-1187c8001210",
   "metadata": {},
   "outputs": [
    {
     "name": "stdout",
     "output_type": "stream",
     "text": [
      "Is the queue empty? True\n"
     ]
    }
   ],
   "source": [
    "# Check if the queue is empty\n",
    "print(\"Is the queue empty?\", my_queue.is_empty())"
   ]
  },
  {
   "cell_type": "markdown",
   "id": "c58b2353-2ad1-4dd4-b8ff-9206762ef3cc",
   "metadata": {},
   "source": [
    "# 2. DEQUE QUEUE:"
   ]
  },
  {
   "cell_type": "code",
   "execution_count": 55,
   "id": "7e936076-1621-4a2f-aa52-9d8178a3c3f8",
   "metadata": {},
   "outputs": [],
   "source": [
    "from collections import deque\n",
    "\n",
    "class DequeQueue:\n",
    "    def __init__(self):  \n",
    "        self.items = deque() \n",
    "\n",
    "    def is_empty(self):\n",
    "        return len(self.items) == 0  \n",
    "\n",
    "    def enqueue(self, item):\n",
    "        self.items.append(item)  \n",
    "\n",
    "    def dequeue(self):\n",
    "        if not self.is_empty():\n",
    "            return self.items.popleft()  \n",
    "        else:\n",
    "            print(\"Queue is empty. Cannot dequeue.\")\n",
    "            return None\n",
    "\n",
    "    def peek(self):\n",
    "        if not self.is_empty():\n",
    "            return self.items[0]  \n",
    "        else:\n",
    "            print(\"Queue is empty.\")\n",
    "            return None\n",
    "\n",
    "    def size(self):\n",
    "        return len(self.items)  "
   ]
  },
  {
   "cell_type": "code",
   "execution_count": 71,
   "id": "0cdada88-0bab-4a93-a56f-77c552398d84",
   "metadata": {},
   "outputs": [],
   "source": [
    "# Create an instance of DequeQueue\n",
    "my_queue = DequeQueue()"
   ]
  },
  {
   "cell_type": "code",
   "execution_count": 73,
   "id": "a1cc2628-6e46-4732-a3ed-65f2f9e8f851",
   "metadata": {},
   "outputs": [],
   "source": [
    "# Enqueue elements\n",
    "my_queue.enqueue(1)\n",
    "my_queue.enqueue(2)\n",
    "my_queue.enqueue(3)"
   ]
  },
  {
   "cell_type": "code",
   "execution_count": 75,
   "id": "91e714b4-50ad-4fae-aca4-38a682617d52",
   "metadata": {},
   "outputs": [
    {
     "name": "stdout",
     "output_type": "stream",
     "text": [
      "Front of the queue: 1\n"
     ]
    }
   ],
   "source": [
    "# Peek at the front element\n",
    "print(\"Front of the queue:\", my_queue.peek())"
   ]
  },
  {
   "cell_type": "code",
   "execution_count": 77,
   "id": "5466cd73-e030-4e3f-899a-e7c2d877bd33",
   "metadata": {},
   "outputs": [
    {
     "name": "stdout",
     "output_type": "stream",
     "text": [
      "Dequeue: 1\n",
      "Dequeue: 2\n"
     ]
    }
   ],
   "source": [
    "# Dequeue elements\n",
    "print(\"Dequeue:\", my_queue.dequeue())  \n",
    "print(\"Dequeue:\", my_queue.dequeue())"
   ]
  },
  {
   "cell_type": "code",
   "execution_count": 79,
   "id": "d768fedf-d593-433a-b481-a911e3f9dfe3",
   "metadata": {},
   "outputs": [
    {
     "name": "stdout",
     "output_type": "stream",
     "text": [
      "Is the queue empty? False\n"
     ]
    }
   ],
   "source": [
    "# Check if the queue is empty\n",
    "print(\"Is the queue empty?\", my_queue.is_empty())"
   ]
  },
  {
   "cell_type": "code",
   "execution_count": 81,
   "id": "31edcfc1-a8d5-48f2-a7fa-a5144149aca3",
   "metadata": {},
   "outputs": [
    {
     "name": "stdout",
     "output_type": "stream",
     "text": [
      "Dequeue: 3\n"
     ]
    }
   ],
   "source": [
    "# Dequeue the last element\n",
    "print(\"Dequeue:\", my_queue.dequeue())"
   ]
  },
  {
   "cell_type": "code",
   "execution_count": 83,
   "id": "8cb6d73e-ec6e-4f9c-a69c-86aa1b7e7ff0",
   "metadata": {},
   "outputs": [
    {
     "name": "stdout",
     "output_type": "stream",
     "text": [
      "Queue is empty. Cannot dequeue.\n",
      "Dequeue: None\n"
     ]
    }
   ],
   "source": [
    "# Try to dequeue from an empty queue\n",
    "print(\"Dequeue:\", my_queue.dequeue())"
   ]
  },
  {
   "cell_type": "code",
   "execution_count": 85,
   "id": "6340b559-1a6e-4bdb-9b35-75410c9113d9",
   "metadata": {},
   "outputs": [
    {
     "name": "stdout",
     "output_type": "stream",
     "text": [
      "Is the queue empty? True\n"
     ]
    }
   ],
   "source": [
    "# Check if the queue is empty\n",
    "print(\"Is the queue empty?\", my_queue.is_empty())"
   ]
  },
  {
   "cell_type": "markdown",
   "id": "d75b6e21-6457-47a9-908f-4351a30a583f",
   "metadata": {},
   "source": [
    "# 3. NODE BASE QUEUE:\n"
   ]
  },
  {
   "cell_type": "code",
   "execution_count": 93,
   "id": "d5ec30b8-147b-4c58-b543-d22dd2b64d2f",
   "metadata": {},
   "outputs": [],
   "source": [
    "class Node:\n",
    "    def __init__(self, data=None):\n",
    "        self.data = data\n",
    "        self.next = None\n",
    "class NodeQueue:\n",
    "    def __init__(self): \n",
    "        self.front = None  \n",
    "        self.rear = None   \n",
    "\n",
    "    def is_empty(self):\n",
    "        return self.front is None\n",
    "\n",
    "    def enqueue(self, data):\n",
    "        new_node = Node(data)\n",
    "        if self.rear is None:  \n",
    "            self.front = self.rear = new_node  \n",
    "        else:\n",
    "            self.rear.next = new_node  \n",
    "            self.rear = new_node       \n",
    "\n",
    "    def dequeue(self):\n",
    "        if self.is_empty():\n",
    "            print(\"Queue is empty. Cannot dequeue.\")\n",
    "            return None\n",
    "        else:\n",
    "            removed_data = self.front.data  \n",
    "            self.front = self.front.next    \n",
    "            if self.front is None:          \n",
    "                self.rear = None            \n",
    "            return removed_data\n",
    "\n",
    "    def peek(self):\n",
    "        if self.is_empty():\n",
    "            print(\"Queue is empty.\")\n",
    "            return None\n",
    "        else:\n",
    "            return self.front.data  \n",
    "\n",
    "    def display(self):\n",
    "        if self.is_empty():\n",
    "            print(\"Queue is empty.\")\n",
    "        else:\n",
    "            current = self.front\n",
    "            while current:\n",
    "                print(current.data, end=\" -> \")\n",
    "                current = current.next\n",
    "            print(\"None\")"
   ]
  },
  {
   "cell_type": "code",
   "execution_count": 113,
   "id": "0fd4a261-a55a-4943-9814-7edadc08bd5a",
   "metadata": {},
   "outputs": [],
   "source": [
    "# Create an instance of NodeQueue\n",
    "my_node_queue = NodeQueue()"
   ]
  },
  {
   "cell_type": "code",
   "execution_count": 115,
   "id": "b4c58971-7580-417f-be68-6d70c1c63c45",
   "metadata": {},
   "outputs": [],
   "source": [
    "# Enqueue elements\n",
    "my_node_queue.enqueue(1)\n",
    "my_node_queue.enqueue(2)\n",
    "my_node_queue.enqueue(3)"
   ]
  },
  {
   "cell_type": "code",
   "execution_count": 117,
   "id": "7941cb4a-4f13-4a83-908f-b522792ed5ed",
   "metadata": {},
   "outputs": [
    {
     "name": "stdout",
     "output_type": "stream",
     "text": [
      "Queue after enqueuing elements:\n",
      "1 -> 2 -> 3 -> None\n"
     ]
    }
   ],
   "source": [
    "# Display the queue\n",
    "print(\"Queue after enqueuing elements:\")\n",
    "my_node_queue.display()"
   ]
  },
  {
   "cell_type": "code",
   "execution_count": 119,
   "id": "61763e86-9392-483d-9d57-698b504b8214",
   "metadata": {},
   "outputs": [
    {
     "name": "stdout",
     "output_type": "stream",
     "text": [
      "Front of the queue: 1\n"
     ]
    }
   ],
   "source": [
    "# Peek at the front element\n",
    "print(\"Front of the queue:\", my_node_queue.peek())"
   ]
  },
  {
   "cell_type": "code",
   "execution_count": 121,
   "id": "1e011fc7-e08c-487e-97e0-4fc82d6e1fc6",
   "metadata": {},
   "outputs": [
    {
     "name": "stdout",
     "output_type": "stream",
     "text": [
      "Dequeue: 1\n",
      "Dequeue: 2\n"
     ]
    }
   ],
   "source": [
    "# Dequeue elements\n",
    "print(\"Dequeue:\", my_node_queue.dequeue())  \n",
    "print(\"Dequeue:\", my_node_queue.dequeue()) "
   ]
  },
  {
   "cell_type": "code",
   "execution_count": 123,
   "id": "2a688cd9-9724-417b-bcfb-4843b8628fef",
   "metadata": {},
   "outputs": [
    {
     "name": "stdout",
     "output_type": "stream",
     "text": [
      "Is the queue empty? False\n"
     ]
    }
   ],
   "source": [
    "# Check if the queue is empty\n",
    "print(\"Is the queue empty?\", my_node_queue.is_empty())"
   ]
  },
  {
   "cell_type": "code",
   "execution_count": 125,
   "id": "59f380e7-8153-41f4-be0e-ac092cf1d1ce",
   "metadata": {},
   "outputs": [
    {
     "name": "stdout",
     "output_type": "stream",
     "text": [
      "Dequeue: 3\n"
     ]
    }
   ],
   "source": [
    "# Dequeue the last element\n",
    "print(\"Dequeue:\", my_node_queue.dequeue())"
   ]
  },
  {
   "cell_type": "code",
   "execution_count": 127,
   "id": "06ac245a-24d4-4870-a4c7-df72f75beb36",
   "metadata": {},
   "outputs": [
    {
     "name": "stdout",
     "output_type": "stream",
     "text": [
      "Queue is empty. Cannot dequeue.\n",
      "Dequeue: None\n"
     ]
    }
   ],
   "source": [
    "# Try to dequeue from an empty queue\n",
    "print(\"Dequeue:\", my_node_queue.dequeue()) "
   ]
  },
  {
   "cell_type": "code",
   "execution_count": 129,
   "id": "68dbf11d-e822-40e6-8828-7de5eb5e401e",
   "metadata": {},
   "outputs": [
    {
     "name": "stdout",
     "output_type": "stream",
     "text": [
      "Is the queue empty? True\n"
     ]
    }
   ],
   "source": [
    "# Check if the queue is empty\n",
    "print(\"Is the queue empty?\", my_node_queue.is_empty())"
   ]
  }
 ],
 "metadata": {
  "kernelspec": {
   "display_name": "Python 3 (ipykernel)",
   "language": "python",
   "name": "python3"
  },
  "language_info": {
   "codemirror_mode": {
    "name": "ipython",
    "version": 3
   },
   "file_extension": ".py",
   "mimetype": "text/x-python",
   "name": "python",
   "nbconvert_exporter": "python",
   "pygments_lexer": "ipython3",
   "version": "3.12.4"
  }
 },
 "nbformat": 4,
 "nbformat_minor": 5
}
